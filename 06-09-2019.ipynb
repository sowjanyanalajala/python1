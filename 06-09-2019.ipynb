{
 "cells": [
  {
   "cell_type": "markdown",
   "metadata": {},
   "source": [
    "## Dictionaries"
   ]
  },
  {
   "cell_type": "code",
   "execution_count": 1,
   "metadata": {},
   "outputs": [
    {
     "data": {
      "text/plain": [
       "{'k1': 'name', 'k2': 'age', 'k3': 'number'}"
      ]
     },
     "execution_count": 1,
     "metadata": {},
     "output_type": "execute_result"
    }
   ],
   "source": [
    "dict={'k1':'name','k2':'age','k3':'number'}\n",
    "dict"
   ]
  },
  {
   "cell_type": "code",
   "execution_count": 3,
   "metadata": {},
   "outputs": [
    {
     "data": {
      "text/plain": [
       "'name'"
      ]
     },
     "execution_count": 3,
     "metadata": {},
     "output_type": "execute_result"
    }
   ],
   "source": [
    "dict['k1']"
   ]
  },
  {
   "cell_type": "code",
   "execution_count": 4,
   "metadata": {},
   "outputs": [
    {
     "data": {
      "text/plain": [
       "dict_items([('k1', 'name'), ('k2', 'age'), ('k3', 'number')])"
      ]
     },
     "execution_count": 4,
     "metadata": {},
     "output_type": "execute_result"
    }
   ],
   "source": [
    "dict.items()"
   ]
  },
  {
   "cell_type": "code",
   "execution_count": 15,
   "metadata": {},
   "outputs": [
    {
     "name": "stdout",
     "output_type": "stream",
     "text": [
      "contact added successfully\n"
     ]
    }
   ],
   "source": [
    "## Adding a contact\n",
    "## name,phonenumber\n",
    "contacts={}\n",
    "def addcontact(name,phonenumber):\n",
    "    if name not in contacts:\n",
    "        contacts[name]=phonenumber\n",
    "        print(\"contact added successfully\")\n",
    "    else:\n",
    "        print(\"contact already exists\") \n",
    "addcontact('name1',9876543210)"
   ]
  },
  {
   "cell_type": "code",
   "execution_count": 16,
   "metadata": {},
   "outputs": [
    {
     "data": {
      "text/plain": [
       "{'name1': 9876543210}"
      ]
     },
     "execution_count": 16,
     "metadata": {},
     "output_type": "execute_result"
    }
   ],
   "source": [
    "contacts"
   ]
  },
  {
   "cell_type": "code",
   "execution_count": 17,
   "metadata": {},
   "outputs": [
    {
     "name": "stdout",
     "output_type": "stream",
     "text": [
      "contact added successfully\n"
     ]
    }
   ],
   "source": [
    "## adding another contact\n",
    "## and merging both contacts\n",
    "def addcontact(name,phonenumber):\n",
    "    if name not in contacts:\n",
    "        contacts[name]=phonenumber\n",
    "        print(\"contact added successfully\")\n",
    "    else:\n",
    "        print(\"contact already exists\") \n",
    "addcontact('name2',9987654321)"
   ]
  },
  {
   "cell_type": "code",
   "execution_count": 18,
   "metadata": {},
   "outputs": [
    {
     "data": {
      "text/plain": [
       "{'name1': 9876543210, 'name2': 9987654321}"
      ]
     },
     "execution_count": 18,
     "metadata": {},
     "output_type": "execute_result"
    }
   ],
   "source": [
    "contacts"
   ]
  },
  {
   "cell_type": "code",
   "execution_count": 24,
   "metadata": {},
   "outputs": [
    {
     "name": "stdout",
     "output_type": "stream",
     "text": [
      "name1 : 9876543210\n"
     ]
    }
   ],
   "source": [
    "## searching a contact\n",
    "## using key contact\n",
    "def searchcontact(name):\n",
    "    if name in contacts:\n",
    "        print(name,\":\",contacts[name])\n",
    "    else:\n",
    "        print(\"does not exists\")\n",
    "searchcontact('name1')        "
   ]
  },
  {
   "cell_type": "code",
   "execution_count": 26,
   "metadata": {},
   "outputs": [
    {
     "name": "stdout",
     "output_type": "stream",
     "text": [
      "does not exists\n"
     ]
    }
   ],
   "source": [
    "searchcontact('name0')"
   ]
  },
  {
   "cell_type": "code",
   "execution_count": 32,
   "metadata": {},
   "outputs": [
    {
     "name": "stdout",
     "output_type": "stream",
     "text": [
      "2 contacts added successfully\n"
     ]
    }
   ],
   "source": [
    "## merging two contacts\n",
    "## using update method\n",
    "def mergecontacts(newcontacts):\n",
    "    contacts.update(newcontacts)\n",
    "    print(len(newcontacts.keys()),\"contacts added successfully\")\n",
    "newcontacts={'name2':9987541234,'name3':9876543211}\n",
    "mergecontacts(newcontacts)\n"
   ]
  },
  {
   "cell_type": "code",
   "execution_count": 33,
   "metadata": {},
   "outputs": [
    {
     "data": {
      "text/plain": [
       "{'name1': 9876543210, 'name2': 9987541234, 'name3': 9876543211}"
      ]
     },
     "execution_count": 33,
     "metadata": {},
     "output_type": "execute_result"
    }
   ],
   "source": [
    "contacts"
   ]
  },
  {
   "cell_type": "code",
   "execution_count": 45,
   "metadata": {},
   "outputs": [
    {
     "name": "stdout",
     "output_type": "stream",
     "text": [
      "contact added successfully\n"
     ]
    }
   ],
   "source": [
    "## add a contact\n",
    "## key:'a',value:9988776655\n",
    "mobilecontact={}\n",
    "def mobilecontact1(name,phonenumber):\n",
    "    if name not in mobilecontact:\n",
    "        mobilecontact[name]=phonenumber\n",
    "        print(\"contact added successfully\")\n",
    "    else:\n",
    "        print(\"contact already exists\") \n",
    "mobilecontact1('a',9988776655)"
   ]
  },
  {
   "cell_type": "code",
   "execution_count": 46,
   "metadata": {},
   "outputs": [
    {
     "data": {
      "text/plain": [
       "{'a': 9988776655}"
      ]
     },
     "execution_count": 46,
     "metadata": {},
     "output_type": "execute_result"
    }
   ],
   "source": [
    "mobilecontact"
   ]
  },
  {
   "cell_type": "code",
   "execution_count": 52,
   "metadata": {},
   "outputs": [
    {
     "name": "stdout",
     "output_type": "stream",
     "text": [
      "contact added successfully\n"
     ]
    }
   ],
   "source": [
    "applecontact={}\n",
    "def mobilecontact1(name,phonenumber):\n",
    "    if name not in applecontact:\n",
    "        applecontact[name]=phonenumber\n",
    "        print(\"contact added successfully\")\n",
    "    else:\n",
    "        print(\"contact already exists\") \n",
    "mobilecontact1('b',9988776654)"
   ]
  },
  {
   "cell_type": "code",
   "execution_count": 54,
   "metadata": {},
   "outputs": [
    {
     "data": {
      "text/plain": [
       "{'b': 9988776654}"
      ]
     },
     "execution_count": 54,
     "metadata": {},
     "output_type": "execute_result"
    }
   ],
   "source": [
    "applecontact"
   ]
  },
  {
   "cell_type": "code",
   "execution_count": 55,
   "metadata": {},
   "outputs": [
    {
     "name": "stdout",
     "output_type": "stream",
     "text": [
      "2 contacts added successfully\n"
     ]
    }
   ],
   "source": [
    "def mergecontacts(newcontacts):\n",
    "    contacts.update(newcontacts)\n",
    "    print(len(newcontacts.keys()),\"contacts added successfully\")\n",
    "newcontacts={'a':9987541234,'b':9876543211}\n",
    "mergecontacts(newcontacts)\n"
   ]
  },
  {
   "cell_type": "code",
   "execution_count": 56,
   "metadata": {},
   "outputs": [
    {
     "data": {
      "text/plain": [
       "{'name1': 9876543210,\n",
       " 'name2': 9987541234,\n",
       " 'name3': 9876543211,\n",
       " 'a': 9987541234,\n",
       " 'b': 9876543211}"
      ]
     },
     "execution_count": 56,
     "metadata": {},
     "output_type": "execute_result"
    }
   ],
   "source": [
    "contacts"
   ]
  },
  {
   "cell_type": "markdown",
   "metadata": {},
   "source": [
    "## Packages and Module\n",
    "## Package->Collection Of Modules\n",
    "## Module->Collection Of Functions\n"
   ]
  },
  {
   "cell_type": "code",
   "execution_count": 76,
   "metadata": {},
   "outputs": [
    {
     "ename": "ImportError",
     "evalue": "cannot import name 'equal'",
     "output_type": "error",
     "traceback": [
      "\u001b[1;31m---------------------------------------------------------------------------\u001b[0m",
      "\u001b[1;31mImportError\u001b[0m                               Traceback (most recent call last)",
      "\u001b[1;32m<ipython-input-76-3cec7a6a365d>\u001b[0m in \u001b[0;36m<module>\u001b[1;34m()\u001b[0m\n\u001b[1;32m----> 1\u001b[1;33m \u001b[1;32mfrom\u001b[0m \u001b[0mpackages\u001b[0m\u001b[1;33m.\u001b[0m\u001b[0mnumerical\u001b[0m \u001b[1;32mimport\u001b[0m \u001b[0mequal\u001b[0m\u001b[1;33m\u001b[0m\u001b[0m\n\u001b[0m\u001b[0;32m      2\u001b[0m \u001b[0mequal\u001b[0m\u001b[1;33m(\u001b[0m\u001b[1;34m'abcd'\u001b[0m\u001b[1;33m,\u001b[0m\u001b[1;36m1234\u001b[0m\u001b[1;33m)\u001b[0m\u001b[1;33m\u001b[0m\u001b[0m\n",
      "\u001b[1;31mImportError\u001b[0m: cannot import name 'equal'"
     ]
    }
   ],
   "source": [
    "from packages.numerical import equal\n",
    "equal('abcd',1234)"
   ]
  },
  {
   "cell_type": "code",
   "execution_count": 93,
   "metadata": {},
   "outputs": [
    {
     "name": "stdout",
     "output_type": "stream",
     "text": [
      "19\n",
      "21\n",
      "9\n",
      "27\n",
      "1\n",
      "98\n",
      "92\n",
      "25\n",
      "9\n",
      "63\n"
     ]
    }
   ],
   "source": [
    "## generating marks using \"random\" prebuilt function \n",
    "import random\n",
    "def generatemarks(n,lb,ub):\n",
    "    for i in range(0,n):\n",
    "        print(random.randint(lb,ub))\n",
    "generatemarks(10,0,100)"
   ]
  },
  {
   "cell_type": "code",
   "execution_count": 97,
   "metadata": {},
   "outputs": [
    {
     "name": "stdout",
     "output_type": "stream",
     "text": [
      "15\n",
      "5\n",
      "18\n",
      "15\n",
      "11\n",
      "2\n",
      "22\n",
      "9\n",
      "8\n",
      "11\n",
      "19\n",
      "11\n",
      "2\n",
      "24\n",
      "6\n",
      "15\n",
      "16\n",
      "3\n",
      "7\n",
      "20\n",
      "11\n",
      "21\n",
      "5\n",
      "25\n",
      "24\n"
     ]
    }
   ],
   "source": [
    "generatemarks(25,0,25)"
   ]
  },
  {
   "cell_type": "markdown",
   "metadata": {},
   "source": [
    "### Regular Expressions\n",
    "## sequence of characters that match with a pattern(string)\n",
    "## regular expression works with string\n",
    " regular expression start with ^ and end with $\n",
    " []-Represent a character\n",
    " *-number of occurence(zero also)\n",
    " +-number of occurence(from 1)\n",
    " .- to match a character \n",
    " ?- for zero or one occurences\n",
    " |- OR\n",
    " [0-9]->any digit\n",
    " [a-z]->any lower case alphabet \n",
    " {2468]->all single digit multiples of 2\n",
    " ^[0-9]{1}$ only single digit numbers\n",
    " ^[0-9]{3}$ only 3 digit numbers\n",
    " [0-9]*0$->all multiples of 10\n",
    " ^([1-9][0-9]*[05]|([5])->all multiples of 5\n",
    "[w][o][r][l][d] or (word)->searching of 'word'"
   ]
  },
  {
   "cell_type": "markdown",
   "metadata": {},
   "source": [
    "# regular expression\n",
    "## phone number pattern=^[6-9][0-9]{9}$"
   ]
  },
  {
   "cell_type": "code",
   "execution_count": 104,
   "metadata": {},
   "outputs": [
    {
     "name": "stdout",
     "output_type": "stream",
     "text": [
      "valid\n"
     ]
    }
   ],
   "source": [
    "## function for phonenumber validation using\n",
    "## regular expression\n",
    "import re\n",
    "def phonenumbervalid(number):\n",
    "    number=str(number)\n",
    "    pattern='^[6-9][0-9]{9}$'\n",
    "    if re.match(pattern,number):\n",
    "        print(\"valid\")\n",
    "    else:\n",
    "        print(\"not valid\")\n",
    "phonenumbervalid(9876543210)       "
   ]
  },
  {
   "cell_type": "code",
   "execution_count": 106,
   "metadata": {},
   "outputs": [
    {
     "ename": "SyntaxError",
     "evalue": "invalid token (<ipython-input-106-4e33572d40a4>, line 1)",
     "output_type": "error",
     "traceback": [
      "\u001b[1;36m  File \u001b[1;32m\"<ipython-input-106-4e33572d40a4>\"\u001b[1;36m, line \u001b[1;32m1\u001b[0m\n\u001b[1;33m    phonenumbervalid(0876543210)\u001b[0m\n\u001b[1;37m                              ^\u001b[0m\n\u001b[1;31mSyntaxError\u001b[0m\u001b[1;31m:\u001b[0m invalid token\n"
     ]
    }
   ],
   "source": [
    "phonenumbervalid(0876543210)  "
   ]
  },
  {
   "cell_type": "code",
   "execution_count": 110,
   "metadata": {},
   "outputs": [
    {
     "name": "stdout",
     "output_type": "stream",
     "text": [
      "valid\n"
     ]
    }
   ],
   "source": [
    "## email-validation\n",
    "\n",
    "import re\n",
    "def emailvalid(email):\n",
    "    \n",
    "    pattern='^[a-z0-9][a-z0-9_.]{3,18}[@][a-z0-9]{4,18}[.][a-z]{2,4}$'\n",
    "    if re.match(pattern,email):\n",
    "        print(\"valid\")\n",
    "    else:\n",
    "        print(\"not valid\")\n",
    "emailvalid(\"sowjanyanalajala16@gmail.com\")       "
   ]
  },
  {
   "cell_type": "code",
   "execution_count": 116,
   "metadata": {},
   "outputs": [
    {
     "name": "stdout",
     "output_type": "stream",
     "text": [
      "not valid\n"
     ]
    }
   ],
   "source": [
    " emailvalid(\"-rama-aynajwos@gmail.com\")"
   ]
  },
  {
   "cell_type": "markdown",
   "metadata": {},
   "source": [
    "## File Handling\n",
    "- It's a collection of related information\n",
    "- Basic Steps\n",
    "  - opening a file\n",
    "  - performing operations(read,write,append)"
   ]
  },
  {
   "cell_type": "markdown",
   "metadata": {},
   "source": [
    "## syntax: file_object=open(\"filepath\",\"mode\")"
   ]
  },
  {
   "cell_type": "code",
   "execution_count": 119,
   "metadata": {},
   "outputs": [
    {
     "name": "stdout",
     "output_type": "stream",
     "text": [
      "Line 1\n",
      "Line 2\n",
      "Line 3\n"
     ]
    }
   ],
   "source": [
    "f=open(\"DataFiles/data.txt\",\"r\")\n",
    "print(f.read())\n",
    "f.close()"
   ]
  },
  {
   "cell_type": "code",
   "execution_count": 157,
   "metadata": {},
   "outputs": [],
   "source": [
    "with open(\"DataFiles/data.txt\",\"w\") as f:\n",
    "    f.write(\"Line 5\")"
   ]
  },
  {
   "cell_type": "code",
   "execution_count": 156,
   "metadata": {},
   "outputs": [],
   "source": [
    "with open(\"DataFiles/data.txt\",\"a\") as f:\n",
    "    f.write(\"Line 6\")"
   ]
  },
  {
   "cell_type": "code",
   "execution_count": 132,
   "metadata": {},
   "outputs": [],
   "source": [
    "with open(\"DataFiles/file.txt\",\"w\") as f:\n",
    "    f.write(\"and\")"
   ]
  },
  {
   "cell_type": "code",
   "execution_count": 155,
   "metadata": {},
   "outputs": [],
   "source": [
    "with open(\"DataFiles/file.txt\",\"a\") as f:\n",
    "    f.write(\"user friendly\")"
   ]
  },
  {
   "cell_type": "code",
   "execution_count": 158,
   "metadata": {},
   "outputs": [
    {
     "name": "stdout",
     "output_type": "stream",
     "text": [
      "6\n",
      "28\n",
      "0\n"
     ]
    }
   ],
   "source": [
    "with open(\"DataFiles/data.txt\",'a+') as f:\n",
    "    f.read()\n",
    "    print(f.tell())\n",
    "    f.write(\"Line 2\\nLine 3\\nLine 4\")\n",
    "    print(f.tell())\n",
    "    f.seek(0)\n",
    "    print(f.tell())"
   ]
  },
  {
   "cell_type": "code",
   "execution_count": null,
   "metadata": {},
   "outputs": [],
   "source": [
    "with open(\"DataFiles/file.txt\",'a+') as f:\n",
    "    f.write(\"line 2\")\n",
    "    \n"
   ]
  },
  {
   "cell_type": "code",
   "execution_count": 171,
   "metadata": {},
   "outputs": [
    {
     "name": "stdout",
     "output_type": "stream",
     "text": [
      "['python', 'programming', 'level2', 'workshop']\n"
     ]
    }
   ],
   "source": [
    "with open(\"DataFiles/data.txt\",'r') as f:\n",
    "        fh=f.read() \n",
    "        words=fh.split('$')\n",
    "print(words)"
   ]
  },
  {
   "cell_type": "code",
   "execution_count": 238,
   "metadata": {},
   "outputs": [
    {
     "name": "stdout",
     "output_type": "stream",
     "text": [
      "['python$programming$level2$workshop']\n"
     ]
    }
   ],
   "source": [
    "## reading a line\n",
    "with open(\"DataFiles/data.txt\") as f:\n",
    "    print(f.readlines())"
   ]
  },
  {
   "cell_type": "code",
   "execution_count": 237,
   "metadata": {},
   "outputs": [
    {
     "name": "stdout",
     "output_type": "stream",
     "text": [
      "line line python programming programming \n",
      "line line python programming object oriented\n"
     ]
    }
   ],
   "source": [
    "def readFile(filepath):\n",
    "    with open(filepath,'r') as f:\n",
    "        filedata=f.read() ## read the entire file\n",
    "    return filedata      \n",
    "filepath='DataFiles/file.txt'\n",
    "print(readFile(filepath))\n"
   ]
  },
  {
   "cell_type": "code",
   "execution_count": 236,
   "metadata": {},
   "outputs": [
    {
     "name": "stdout",
     "output_type": "stream",
     "text": [
      "2\n"
     ]
    }
   ],
   "source": [
    "def linecount(filename):\n",
    "    count=0\n",
    "    with open(filename,'r') as f:\n",
    "        for i in f:\n",
    "            count=count+1\n",
    "    return count\n",
    "filename=\"DataFiles/file.txt\"\n",
    "print(linecount(filename))"
   ]
  },
  {
   "cell_type": "code",
   "execution_count": 235,
   "metadata": {},
   "outputs": [
    {
     "name": "stdout",
     "output_type": "stream",
     "text": [
      "12\n"
     ]
    }
   ],
   "source": [
    "import re\n",
    "def wordcount(filepath):\n",
    "    pattern='[ \\n]'\n",
    "    filedata=readFile(filepath)\n",
    "    count=len(re.split(pattern,filedata))\n",
    "    return count\n",
    "filename=\"DataFiles/file.txt\"\n",
    "print(wordcount(filepath))\n",
    " "
   ]
  },
  {
   "cell_type": "code",
   "execution_count": 234,
   "metadata": {},
   "outputs": [
    {
     "name": "stdout",
     "output_type": "stream",
     "text": [
      "['line', 'python', 'programming', 'object', 'oriented']\n"
     ]
    }
   ],
   "source": [
    " with open(\"DataFiles/file.txt\") as f:\n",
    "        fh=f.read()\n",
    "        words=fh.split()\n",
    "        unique=[]\n",
    "        for i in words:\n",
    "            if i not in unique:\n",
    "                 unique.append(i)\n",
    "        print(unique)\n",
    "        "
   ]
  },
  {
   "cell_type": "code",
   "execution_count": 241,
   "metadata": {},
   "outputs": [
    {
     "data": {
      "text/plain": [
       "{'line': 1}"
      ]
     },
     "execution_count": 241,
     "metadata": {},
     "output_type": "execute_result"
    }
   ],
   "source": [
    "def wordfrequency(filepath):\n",
    "    with open(filepath,'r') as f:\n",
    "        fh=f.read()\n",
    "    words=fh.split()    \n",
    "    wordfreq={}\n",
    "    for i in words:\n",
    "        if i not in wordfreq:\n",
    "            wordfreq[i]=1\n",
    "        else:\n",
    "            wordfreq[i]+=1\n",
    "        return wordfreq\n",
    "wordfrequency(filepath)    \n",
    "    "
   ]
  },
  {
   "cell_type": "markdown",
   "metadata": {},
   "source": [
    "# set and its methods\n",
    "- set is used to remove duplicate values\n",
    "  - set is represented using{ }"
   ]
  },
  {
   "cell_type": "code",
   "execution_count": 243,
   "metadata": {},
   "outputs": [
    {
     "data": {
      "text/plain": [
       "['__and__',\n",
       " '__class__',\n",
       " '__contains__',\n",
       " '__delattr__',\n",
       " '__dir__',\n",
       " '__doc__',\n",
       " '__eq__',\n",
       " '__format__',\n",
       " '__ge__',\n",
       " '__getattribute__',\n",
       " '__gt__',\n",
       " '__hash__',\n",
       " '__iand__',\n",
       " '__init__',\n",
       " '__init_subclass__',\n",
       " '__ior__',\n",
       " '__isub__',\n",
       " '__iter__',\n",
       " '__ixor__',\n",
       " '__le__',\n",
       " '__len__',\n",
       " '__lt__',\n",
       " '__ne__',\n",
       " '__new__',\n",
       " '__or__',\n",
       " '__rand__',\n",
       " '__reduce__',\n",
       " '__reduce_ex__',\n",
       " '__repr__',\n",
       " '__ror__',\n",
       " '__rsub__',\n",
       " '__rxor__',\n",
       " '__setattr__',\n",
       " '__sizeof__',\n",
       " '__str__',\n",
       " '__sub__',\n",
       " '__subclasshook__',\n",
       " '__xor__',\n",
       " 'add',\n",
       " 'clear',\n",
       " 'copy',\n",
       " 'difference',\n",
       " 'difference_update',\n",
       " 'discard',\n",
       " 'intersection',\n",
       " 'intersection_update',\n",
       " 'isdisjoint',\n",
       " 'issubset',\n",
       " 'issuperset',\n",
       " 'pop',\n",
       " 'remove',\n",
       " 'symmetric_difference',\n",
       " 'symmetric_difference_update',\n",
       " 'union',\n",
       " 'update']"
      ]
     },
     "execution_count": 243,
     "metadata": {},
     "output_type": "execute_result"
    }
   ],
   "source": [
    "dir(set)"
   ]
  },
  {
   "cell_type": "code",
   "execution_count": 245,
   "metadata": {},
   "outputs": [
    {
     "name": "stdout",
     "output_type": "stream",
     "text": [
      "{121, 623547, 253, 'abc'}\n",
      "{121, 623547, 253, 'abc'}\n"
     ]
    }
   ],
   "source": [
    "## list\n",
    "l=[121,\"abc\",253,\"abc\",623547]\n",
    "print(set(l))\n",
    "## tuple\n",
    "l=(121,\"abc\",253,\"abc\",623547)\n",
    "print(set(l))"
   ]
  },
  {
   "cell_type": "code",
   "execution_count": 248,
   "metadata": {},
   "outputs": [
    {
     "name": "stdout",
     "output_type": "stream",
     "text": [
      "{'abcd', 5, 25365}\n"
     ]
    }
   ],
   "source": [
    "s1={\"abcd\",25365}\n",
    "s1.add(5)\n",
    "print(s1)"
   ]
  },
  {
   "cell_type": "code",
   "execution_count": 249,
   "metadata": {},
   "outputs": [
    {
     "data": {
      "text/plain": [
       "{123, 14262153, 56236, 'abcdef', 'hfdbf'}"
      ]
     },
     "execution_count": 249,
     "metadata": {},
     "output_type": "execute_result"
    }
   ],
   "source": [
    "s2={\"abcdef\",14262153,123}\n",
    "s1={\"hfdbf\",56236,123}\n",
    "s2.union(s1)"
   ]
  },
  {
   "cell_type": "code",
   "execution_count": 251,
   "metadata": {},
   "outputs": [
    {
     "data": {
      "text/plain": [
       "set()"
      ]
     },
     "execution_count": 251,
     "metadata": {},
     "output_type": "execute_result"
    }
   ],
   "source": [
    "s1.clear()\n",
    "s1"
   ]
  },
  {
   "cell_type": "code",
   "execution_count": 256,
   "metadata": {},
   "outputs": [
    {
     "name": "stdout",
     "output_type": "stream",
     "text": [
      "15\n",
      "18\n",
      "21\n"
     ]
    }
   ],
   "source": [
    "##Tasks\n",
    "## program to generate multiplication of table\n",
    "def table(a,b,c):\n",
    "    for i in range(b,c+1):\n",
    "        n=a*i\n",
    "        print(n)\n",
    "    \n",
    "table(3,5,7)        \n",
    "      "
   ]
  },
  {
   "cell_type": "code",
   "execution_count": 262,
   "metadata": {},
   "outputs": [
    {
     "name": "stdout",
     "output_type": "stream",
     "text": [
      "[2, 4, 6, 3]\n",
      "[2, 3, 4, 6]\n",
      "6\n",
      "2\n",
      "4.142857142857143\n"
     ]
    }
   ],
   "source": [
    "def li():\n",
    "    li=[2,4,4,4,6,6,3]\n",
    "    l=[]\n",
    "    for i in li:\n",
    "        if i not in l:\n",
    "            l.append(i)\n",
    "    print(l) \n",
    "    l.sort()\n",
    "    print(l)\n",
    "    print(max(l))\n",
    "    print(min(l))\n",
    "    average=(sum(li)/len(li))\n",
    "    print(average)\n",
    "li()\n"
   ]
  },
  {
   "cell_type": "code",
   "execution_count": 2,
   "metadata": {},
   "outputs": [
    {
     "name": "stdout",
     "output_type": "stream",
     "text": [
      "-1\n"
     ]
    }
   ],
   "source": [
    "## write a program for liner search in a list\n",
    "# if key is found print \"1\"\n",
    "# else print \"-1\"\n",
    "# ip l=[10,9,8,7,6],5\n",
    "#o/p:-1\n",
    "def linearsearch(a):\n",
    "    li=[1,2,3,4]\n",
    "    if a in li:\n",
    "        print(1)\n",
    "    else:\n",
    "        print(-1)\n",
    "linearsearch(5)        \n"
   ]
  },
  {
   "cell_type": "code",
   "execution_count": 18,
   "metadata": {},
   "outputs": [
    {
     "ename": "ValueError",
     "evalue": "1 is not in list",
     "output_type": "error",
     "traceback": [
      "\u001b[1;31m---------------------------------------------------------------------------\u001b[0m",
      "\u001b[1;31mValueError\u001b[0m                                Traceback (most recent call last)",
      "\u001b[1;32m<ipython-input-18-b3077fd17cbe>\u001b[0m in \u001b[0;36m<module>\u001b[1;34m()\u001b[0m\n\u001b[0;32m      4\u001b[0m     \u001b[0ml\u001b[0m\u001b[1;33m=\u001b[0m\u001b[1;33m[\u001b[0m\u001b[1;36m4\u001b[0m\u001b[1;33m,\u001b[0m\u001b[1;36m5\u001b[0m\u001b[1;33m,\u001b[0m\u001b[1;36m6\u001b[0m\u001b[1;33m,\u001b[0m\u001b[1;36m7\u001b[0m\u001b[1;33m,\u001b[0m\u001b[1;36m8\u001b[0m\u001b[1;33m,\u001b[0m\u001b[1;33m]\u001b[0m\u001b[1;33m\u001b[0m\u001b[0m\n\u001b[0;32m      5\u001b[0m     \u001b[1;33m(\u001b[0m\u001b[0ml\u001b[0m\u001b[1;33m.\u001b[0m\u001b[0mindex\u001b[0m\u001b[1;33m(\u001b[0m\u001b[1;36m1\u001b[0m\u001b[1;33m)\u001b[0m\u001b[1;33m)\u001b[0m\u001b[1;33m**\u001b[0m\u001b[1;33m(\u001b[0m\u001b[1;36m0.5\u001b[0m\u001b[1;33m)\u001b[0m\u001b[1;33m\u001b[0m\u001b[0m\n\u001b[1;32m----> 6\u001b[1;33m \u001b[0ml\u001b[0m\u001b[1;33m(\u001b[0m\u001b[1;33m)\u001b[0m\u001b[1;33m\u001b[0m\u001b[0m\n\u001b[0m\u001b[0;32m      7\u001b[0m \u001b[1;33m\u001b[0m\u001b[0m\n\u001b[0;32m      8\u001b[0m \u001b[1;33m\u001b[0m\u001b[0m\n",
      "\u001b[1;32m<ipython-input-18-b3077fd17cbe>\u001b[0m in \u001b[0;36ml\u001b[1;34m()\u001b[0m\n\u001b[0;32m      3\u001b[0m \u001b[1;32mdef\u001b[0m \u001b[0ml\u001b[0m\u001b[1;33m(\u001b[0m\u001b[1;33m)\u001b[0m\u001b[1;33m:\u001b[0m\u001b[1;33m\u001b[0m\u001b[0m\n\u001b[0;32m      4\u001b[0m     \u001b[0ml\u001b[0m\u001b[1;33m=\u001b[0m\u001b[1;33m[\u001b[0m\u001b[1;36m4\u001b[0m\u001b[1;33m,\u001b[0m\u001b[1;36m5\u001b[0m\u001b[1;33m,\u001b[0m\u001b[1;36m6\u001b[0m\u001b[1;33m,\u001b[0m\u001b[1;36m7\u001b[0m\u001b[1;33m,\u001b[0m\u001b[1;36m8\u001b[0m\u001b[1;33m,\u001b[0m\u001b[1;33m]\u001b[0m\u001b[1;33m\u001b[0m\u001b[0m\n\u001b[1;32m----> 5\u001b[1;33m     \u001b[1;33m(\u001b[0m\u001b[0ml\u001b[0m\u001b[1;33m.\u001b[0m\u001b[0mindex\u001b[0m\u001b[1;33m(\u001b[0m\u001b[1;36m1\u001b[0m\u001b[1;33m)\u001b[0m\u001b[1;33m)\u001b[0m\u001b[1;33m**\u001b[0m\u001b[1;33m(\u001b[0m\u001b[1;36m0.5\u001b[0m\u001b[1;33m)\u001b[0m\u001b[1;33m\u001b[0m\u001b[0m\n\u001b[0m\u001b[0;32m      6\u001b[0m \u001b[0ml\u001b[0m\u001b[1;33m(\u001b[0m\u001b[1;33m)\u001b[0m\u001b[1;33m\u001b[0m\u001b[0m\n\u001b[0;32m      7\u001b[0m \u001b[1;33m\u001b[0m\u001b[0m\n",
      "\u001b[1;31mValueError\u001b[0m: 1 is not in list"
     ]
    }
   ],
   "source": [
    "# square root of a number in a list\n",
    "# without using math package\n",
    "def l():\n",
    "    l=[4,5,6,7,8,]\n",
    "    (l.index(1))**(0.5)\n",
    "l()    \n",
    "        \n",
    "    \n"
   ]
  },
  {
   "cell_type": "code",
   "execution_count": null,
   "metadata": {},
   "outputs": [],
   "source": [
    "## using a regular expression \n",
    "# add a name,phonenumber,email in contacts\n",
    "# dictionary"
   ]
  }
 ],
 "metadata": {
  "kernelspec": {
   "display_name": "Python 3",
   "language": "python",
   "name": "python3"
  },
  "language_info": {
   "codemirror_mode": {
    "name": "ipython",
    "version": 3
   },
   "file_extension": ".py",
   "mimetype": "text/x-python",
   "name": "python",
   "nbconvert_exporter": "python",
   "pygments_lexer": "ipython3",
   "version": "3.6.5"
  }
 },
 "nbformat": 4,
 "nbformat_minor": 2
}
